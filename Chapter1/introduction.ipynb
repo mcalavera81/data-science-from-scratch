{
 "cells": [
  {
   "cell_type": "code",
   "execution_count": 1,
   "metadata": {},
   "outputs": [],
   "source": [
    "users = [\n",
    "    { \"id\": 0, \"name\": \"Hero\" },\n",
    "    { \"id\": 1, \"name\": \"Dunn\" },\n",
    "    { \"id\": 2, \"name\": \"Sue\" },\n",
    "    { \"id\": 3, \"name\": \"Chi\" },\n",
    "    { \"id\": 4, \"name\": \"Thor\" },\n",
    "    { \"id\": 5, \"name\": \"Clive\" },\n",
    "    { \"id\": 6, \"name\": \"Hicks\" },\n",
    "    { \"id\": 7, \"name\": \"Devin\" },\n",
    "    { \"id\": 8, \"name\": \"Kate\" },\n",
    "    { \"id\": 9, \"name\": \"Klein\" }\n",
    "]\n"
   ]
  },
  {
   "cell_type": "code",
   "execution_count": 2,
   "metadata": {},
   "outputs": [],
   "source": [
    "friendships = [(0, 1), (0, 2), (1, 2), (1, 3), (2, 3), (3, 4),\n",
    "               (4, 5), (5, 6), (5, 7), (6, 8), (7, 8), (8, 9)]\n"
   ]
  },
  {
   "cell_type": "code",
   "execution_count": 3,
   "metadata": {},
   "outputs": [],
   "source": [
    "for user in users:\n",
    "    user[\"friends\"] = []"
   ]
  },
  {
   "cell_type": "code",
   "execution_count": 4,
   "metadata": {},
   "outputs": [],
   "source": [
    "for i, j in friendships:\n",
    "    # this works because users[i] is the user whose id is i\n",
    "    users[i][\"friends\"].append(users[j]) # add j as a friend of i\n",
    "    users[j][\"friends\"].append(users[i]) # add i as a friend of j"
   ]
  },
  {
   "cell_type": "code",
   "execution_count": 5,
   "metadata": {},
   "outputs": [],
   "source": [
    "def number_of_friends(user):\n",
    "    \"\"\"how many friends does _user_ have?\"\"\"\n",
    "    return len(user[\"friends\"])                   # length of friend_ids list\n"
   ]
  },
  {
   "cell_type": "code",
   "execution_count": 6,
   "metadata": {},
   "outputs": [],
   "source": [
    "total_connections = sum(number_of_friends(user)\n",
    "                        for user in users)    "
   ]
  },
  {
   "cell_type": "code",
   "execution_count": 7,
   "metadata": {},
   "outputs": [
    {
     "data": {
      "text/plain": [
       "24"
      ]
     },
     "execution_count": 7,
     "metadata": {},
     "output_type": "execute_result"
    }
   ],
   "source": [
    "total_connections"
   ]
  },
  {
   "cell_type": "code",
   "execution_count": 8,
   "metadata": {},
   "outputs": [
    {
     "data": {
      "text/plain": [
       "[2, 3, 3, 3, 2, 3, 2, 2, 3, 1]"
      ]
     },
     "execution_count": 8,
     "metadata": {},
     "output_type": "execute_result"
    }
   ],
   "source": [
    "[number_of_friends(user) for user in users]"
   ]
  },
  {
   "cell_type": "code",
   "execution_count": 9,
   "metadata": {},
   "outputs": [],
   "source": [
    "from __future__ import division                   # integer division is lame\n",
    "num_users = len(users)                            # length of the users list\n",
    "avg_connections = total_connections / num_users   # 2.4"
   ]
  },
  {
   "cell_type": "code",
   "execution_count": 10,
   "metadata": {},
   "outputs": [
    {
     "data": {
      "text/plain": [
       "2.4"
      ]
     },
     "execution_count": 10,
     "metadata": {},
     "output_type": "execute_result"
    }
   ],
   "source": [
    "avg_connections"
   ]
  },
  {
   "cell_type": "code",
   "execution_count": 11,
   "metadata": {},
   "outputs": [],
   "source": [
    "# create a list (user_id, number_of_friends)\n",
    "num_friends_by_id = [(user[\"id\"], number_of_friends(user))\n",
    "                     for user in users]"
   ]
  },
  {
   "cell_type": "code",
   "execution_count": 20,
   "metadata": {},
   "outputs": [
    {
     "data": {
      "text/plain": [
       "[(1, 3),\n",
       " (2, 3),\n",
       " (3, 3),\n",
       " (5, 3),\n",
       " (8, 3),\n",
       " (0, 2),\n",
       " (4, 2),\n",
       " (6, 2),\n",
       " (7, 2),\n",
       " (9, 1)]"
      ]
     },
     "execution_count": 20,
     "metadata": {},
     "output_type": "execute_result"
    }
   ],
   "source": [
    "sorted(num_friends_by_id,key=lambda (user_id,num_friends): num_friends,reverse=True)                                     \n"
   ]
  },
  {
   "cell_type": "code",
   "execution_count": 13,
   "metadata": {},
   "outputs": [
    {
     "data": {
      "text/plain": [
       "[{'friends': [{'friends': [...], 'id': 0, 'name': 'Hero'},\n",
       "   {'friends': [{'friends': [...], 'id': 0, 'name': 'Hero'},\n",
       "     {...},\n",
       "     {'friends': [{...},\n",
       "       {...},\n",
       "       {'friends': [{...},\n",
       "         {'friends': [{...},\n",
       "           {'friends': [{...},\n",
       "             {'friends': [{...},\n",
       "               {'friends': [{...}, {...}], 'id': 7, 'name': 'Devin'},\n",
       "               {'friends': [{...}], 'id': 9, 'name': 'Klein'}],\n",
       "              'id': 8,\n",
       "              'name': 'Kate'}],\n",
       "            'id': 6,\n",
       "            'name': 'Hicks'},\n",
       "           {'friends': [{...},\n",
       "             {'friends': [{'friends': [{...}, {...}],\n",
       "                'id': 6,\n",
       "                'name': 'Hicks'},\n",
       "               {...},\n",
       "               {'friends': [{...}], 'id': 9, 'name': 'Klein'}],\n",
       "              'id': 8,\n",
       "              'name': 'Kate'}],\n",
       "            'id': 7,\n",
       "            'name': 'Devin'}],\n",
       "          'id': 5,\n",
       "          'name': 'Clive'}],\n",
       "        'id': 4,\n",
       "        'name': 'Thor'}],\n",
       "      'id': 3,\n",
       "      'name': 'Chi'}],\n",
       "    'id': 2,\n",
       "    'name': 'Sue'},\n",
       "   {'friends': [{...},\n",
       "     {'friends': [{'friends': [...], 'id': 0, 'name': 'Hero'}, {...}, {...}],\n",
       "      'id': 2,\n",
       "      'name': 'Sue'},\n",
       "     {'friends': [{...},\n",
       "       {'friends': [{...},\n",
       "         {'friends': [{...},\n",
       "           {'friends': [{...},\n",
       "             {'friends': [{...}, {...}], 'id': 7, 'name': 'Devin'},\n",
       "             {'friends': [{...}], 'id': 9, 'name': 'Klein'}],\n",
       "            'id': 8,\n",
       "            'name': 'Kate'}],\n",
       "          'id': 6,\n",
       "          'name': 'Hicks'},\n",
       "         {'friends': [{...},\n",
       "           {'friends': [{'friends': [{...}, {...}], 'id': 6, 'name': 'Hicks'},\n",
       "             {...},\n",
       "             {'friends': [{...}], 'id': 9, 'name': 'Klein'}],\n",
       "            'id': 8,\n",
       "            'name': 'Kate'}],\n",
       "          'id': 7,\n",
       "          'name': 'Devin'}],\n",
       "        'id': 5,\n",
       "        'name': 'Clive'}],\n",
       "      'id': 4,\n",
       "      'name': 'Thor'}],\n",
       "    'id': 3,\n",
       "    'name': 'Chi'}],\n",
       "  'id': 1,\n",
       "  'name': 'Dunn'},\n",
       " {'friends': [{'friends': [...], 'id': 0, 'name': 'Hero'},\n",
       "   {'friends': [{'friends': [...], 'id': 0, 'name': 'Hero'},\n",
       "     {...},\n",
       "     {'friends': [{...},\n",
       "       {...},\n",
       "       {'friends': [{...},\n",
       "         {'friends': [{...},\n",
       "           {'friends': [{...},\n",
       "             {'friends': [{...},\n",
       "               {'friends': [{...}, {...}], 'id': 7, 'name': 'Devin'},\n",
       "               {'friends': [{...}], 'id': 9, 'name': 'Klein'}],\n",
       "              'id': 8,\n",
       "              'name': 'Kate'}],\n",
       "            'id': 6,\n",
       "            'name': 'Hicks'},\n",
       "           {'friends': [{...},\n",
       "             {'friends': [{'friends': [{...}, {...}],\n",
       "                'id': 6,\n",
       "                'name': 'Hicks'},\n",
       "               {...},\n",
       "               {'friends': [{...}], 'id': 9, 'name': 'Klein'}],\n",
       "              'id': 8,\n",
       "              'name': 'Kate'}],\n",
       "            'id': 7,\n",
       "            'name': 'Devin'}],\n",
       "          'id': 5,\n",
       "          'name': 'Clive'}],\n",
       "        'id': 4,\n",
       "        'name': 'Thor'}],\n",
       "      'id': 3,\n",
       "      'name': 'Chi'}],\n",
       "    'id': 1,\n",
       "    'name': 'Dunn'},\n",
       "   {'friends': [{'friends': [{'friends': [...], 'id': 0, 'name': 'Hero'},\n",
       "       {...},\n",
       "       {...}],\n",
       "      'id': 1,\n",
       "      'name': 'Dunn'},\n",
       "     {...},\n",
       "     {'friends': [{...},\n",
       "       {'friends': [{...},\n",
       "         {'friends': [{...},\n",
       "           {'friends': [{...},\n",
       "             {'friends': [{...}, {...}], 'id': 7, 'name': 'Devin'},\n",
       "             {'friends': [{...}], 'id': 9, 'name': 'Klein'}],\n",
       "            'id': 8,\n",
       "            'name': 'Kate'}],\n",
       "          'id': 6,\n",
       "          'name': 'Hicks'},\n",
       "         {'friends': [{...},\n",
       "           {'friends': [{'friends': [{...}, {...}], 'id': 6, 'name': 'Hicks'},\n",
       "             {...},\n",
       "             {'friends': [{...}], 'id': 9, 'name': 'Klein'}],\n",
       "            'id': 8,\n",
       "            'name': 'Kate'}],\n",
       "          'id': 7,\n",
       "          'name': 'Devin'}],\n",
       "        'id': 5,\n",
       "        'name': 'Clive'}],\n",
       "      'id': 4,\n",
       "      'name': 'Thor'}],\n",
       "    'id': 3,\n",
       "    'name': 'Chi'}],\n",
       "  'id': 2,\n",
       "  'name': 'Sue'}]"
      ]
     },
     "execution_count": 13,
     "metadata": {},
     "output_type": "execute_result"
    }
   ],
   "source": [
    "users[0]['friends']"
   ]
  },
  {
   "cell_type": "code",
   "execution_count": 14,
   "metadata": {},
   "outputs": [],
   "source": [
    "def friends_of_friend_ids_bad(user):\n",
    "    # \"foaf\" is short for \"friend of a friend\"\n",
    "    return [foaf[\"id\"]\n",
    "            for friend in user[\"friends\"]     # for each of user's friends\n",
    "            for foaf in friend[\"friends\"]]    # get each of _their_ friends"
   ]
  },
  {
   "cell_type": "code",
   "execution_count": 15,
   "metadata": {},
   "outputs": [
    {
     "data": {
      "text/plain": [
       "[0, 2, 3, 0, 1, 3]"
      ]
     },
     "execution_count": 15,
     "metadata": {},
     "output_type": "execute_result"
    }
   ],
   "source": [
    "    friends_of_friend_ids_bad(users[0])"
   ]
  },
  {
   "cell_type": "code",
   "execution_count": 17,
   "metadata": {},
   "outputs": [
    {
     "name": "stdout",
     "output_type": "stream",
     "text": [
      "[1, 2]\n",
      "[0, 2, 3]\n",
      "[0, 1, 3]\n"
     ]
    }
   ],
   "source": [
    "print [friend[\"id\"] for friend in users[0][\"friends\"]]  # [1, 2]\n",
    "print [friend[\"id\"] for friend in users[1][\"friends\"]]  # [0, 2, 3]\n",
    "print [friend[\"id\"] for friend in users[2][\"friends\"]]  # [0, 1, 3]"
   ]
  },
  {
   "cell_type": "code",
   "execution_count": null,
   "metadata": {},
   "outputs": [],
   "source": []
  }
 ],
 "metadata": {
  "kernelspec": {
   "display_name": "Python 2",
   "language": "python",
   "name": "python2"
  },
  "language_info": {
   "codemirror_mode": {
    "name": "ipython",
    "version": 2
   },
   "file_extension": ".py",
   "mimetype": "text/x-python",
   "name": "python",
   "nbconvert_exporter": "python",
   "pygments_lexer": "ipython2",
   "version": "2.7.12"
  }
 },
 "nbformat": 4,
 "nbformat_minor": 2
}
