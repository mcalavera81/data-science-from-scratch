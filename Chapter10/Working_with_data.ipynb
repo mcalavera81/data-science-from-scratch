{
 "cells": [
  {
   "cell_type": "code",
   "execution_count": 24,
   "metadata": {},
   "outputs": [],
   "source": [
    "from collections import Counter\n",
    "import random\n",
    "import math \n",
    "from matplotlib import pyplot as plt\n",
    "\n",
    "def vector_add(v, w):\n",
    "    \"\"\"adds corresponding elements\"\"\"\n",
    "    return [v_i + w_i\n",
    "            for v_i, w_i in zip(v, w)]\n",
    "\n",
    "def vector_sum(vectors):\n",
    "    return reduce(vector_add, vectors)\n",
    "\n",
    "\n",
    "def normal_cdf(x, mu=0,sigma=1):\n",
    "    return (1 + math.erf((x - mu) / math.sqrt(2) / sigma)) / 2\n",
    "\n",
    "def inverse_normal_cdf(p, mu=0, sigma=1, tolerance=0.00001):\n",
    "    \"\"\"find approximate inverse using binary search\"\"\"\n",
    "\n",
    "    # if not standard, compute standard and rescale\n",
    "    if mu != 0 or sigma != 1:\n",
    "        return mu + sigma * inverse_normal_cdf(p, tolerance=tolerance)\n",
    "\n",
    "    low_z, low_p = -10.0, 0            # normal_cdf(-10) is (very close to) 0\n",
    "    hi_z,  hi_p  =  10.0, 1            # normal_cdf(10)  is (very close to) 1\n",
    "    while hi_z - low_z > tolerance:\n",
    "        mid_z = (low_z + hi_z) / 2     # consider the midpoint\n",
    "        mid_p = normal_cdf(mid_z)      # and the cdf's value there\n",
    "        if mid_p < p:\n",
    "            # midpoint is still too low, search above it\n",
    "            low_z, low_p = mid_z, mid_p\n",
    "        elif mid_p > p:\n",
    "            # midpoint is still too high, search below it\n",
    "            hi_z, hi_p = mid_z, mid_p\n",
    "        else:\n",
    "            break\n",
    "\n",
    "    return mid_z\n",
    "\n",
    "def mean(x):\n",
    "    return sum(x) / len(x)\n",
    "\n",
    "\n",
    "def de_mean(x):\n",
    "    \"\"\"translate x by subtracting its mean (so the result has mean 0)\"\"\"\n",
    "    x_bar = mean(x)\n",
    "    return [x_i - x_bar for x_i in x]\n",
    "\n",
    "def variance(x):\n",
    "    \"\"\"assumes x has at least two elements\"\"\"\n",
    "    n = len(x)\n",
    "    deviations = de_mean(x)\n",
    "    return sum_of_squares(deviations) / (n - 1)\n",
    "\n",
    "def standard_deviation(x):\n",
    "    return math.sqrt(variance(x))\n",
    "\n",
    "def covariance(x, y):\n",
    "    n = len(x)\n",
    "    return dot(de_mean(x), de_mean(y)) / (n - 1)\n",
    "\n",
    "def correlation(x, y):\n",
    "    stdev_x = standard_deviation(x)\n",
    "    stdev_y = standard_deviation(y)\n",
    "    if stdev_x > 0 and stdev_y > 0:\n",
    "        return covariance(x, y) / stdev_x / stdev_y\n",
    "    else:\n",
    "        return 0 # if no variation, correlation is zero\n",
    "    \n",
    "def dot(v, w):\n",
    "    \"\"\"v_1 * w_1 + ... + v_n * w_n\"\"\"\n",
    "    return sum(v_i * w_i for v_i, w_i in zip(v, w))\n",
    "\n",
    "def sum_of_squares(v):\n",
    "    \"\"\"v_1 * v_1 + ... + v_n * v_n\"\"\"\n",
    "    return dot(v, v)"
   ]
  },
  {
   "cell_type": "code",
   "execution_count": 2,
   "metadata": {},
   "outputs": [],
   "source": [
    "def bucketize(point, bucket_size):\n",
    "    \"\"\"floor the point to the next lower multiple of bucket_size\"\"\"\n",
    "    return bucket_size * math.floor(point / bucket_size)\n",
    "\n",
    "def make_histogram(points, bucket_size):\n",
    "    \"\"\"buckets the points and counts how many in each bucket\"\"\"\n",
    "    return Counter(bucketize(point, bucket_size) for point in points)\n",
    "\n",
    "def plot_histogram(points, bucket_size, title=\"\"):\n",
    "    histogram = make_histogram(points, bucket_size)\n",
    "    plt.bar(histogram.keys(), histogram.values(), width=bucket_size)\n",
    "    plt.title(title)\n",
    "    plt.show()"
   ]
  },
  {
   "cell_type": "code",
   "execution_count": 3,
   "metadata": {},
   "outputs": [
    {
     "data": {
      "text/plain": [
       "list"
      ]
     },
     "execution_count": 3,
     "metadata": {},
     "output_type": "execute_result"
    }
   ],
   "source": [
    "type(Counter({\"a\":1}).keys())"
   ]
  },
  {
   "cell_type": "code",
   "execution_count": 4,
   "metadata": {},
   "outputs": [],
   "source": [
    "random.seed(0)\n",
    "\n",
    "# uniform between -100 and 100\n",
    "uniform = [200 * random.random() - 100 for _ in range(10000)]\n",
    "\n",
    "# normal distribution with mean 0, standard deviation 57\n",
    "normal = [50+57 * inverse_normal_cdf(random.random())\n",
    "          for _ in range(10000)]"
   ]
  },
  {
   "cell_type": "code",
   "execution_count": 5,
   "metadata": {},
   "outputs": [
    {
     "data": {
      "image/png": "[encoded data removed]",
      "text/plain": [
       "<matplotlib.figure.Figure at 0x7f2ab43b1810>"
      ]
     },
     "metadata": {},
     "output_type": "display_data"
    }
   ],
   "source": [
    "plot_histogram(uniform, 10, \"Uniform Histogram\")"
   ]
  },
  {
   "cell_type": "code",
   "execution_count": 6,
   "metadata": {},
   "outputs": [
    {
     "data": {
      "image/png": "[encoded data removed]",
      "text/plain": [
       "<matplotlib.figure.Figure at 0x7f2a96c15d10>"
      ]
     },
     "metadata": {},
     "output_type": "display_data"
    }
   ],
   "source": [
    "plot_histogram(normal, 10, \"Normal Histogram\")"
   ]
  },
  {
   "cell_type": "code",
   "execution_count": 7,
   "metadata": {},
   "outputs": [],
   "source": [
    "def random_normal():\n",
    "    \"\"\"returns a random draw from a standard normal distribution\"\"\"\n",
    "    return inverse_normal_cdf(random.random())\n",
    "\n",
    "xs = [random_normal() for _ in range(1000)]\n",
    "ys1 = [ x + random_normal() / 2 for x in xs]\n",
    "ys2 = [-x + random_normal() / 2 for x in xs]"
   ]
  },
  {
   "cell_type": "code",
   "execution_count": 8,
   "metadata": {},
   "outputs": [
    {
     "data": {
      "image/png": "[encoded data removed]",
      "text/plain": [
       "<matplotlib.figure.Figure at 0x7f2a96962210>"
      ]
     },
     "metadata": {},
     "output_type": "display_data"
    }
   ],
   "source": [
    "plot_histogram(ys1, 1)"
   ]
  },
  {
   "cell_type": "code",
   "execution_count": 9,
   "metadata": {},
   "outputs": [
    {
     "data": {
      "image/png": "[encoded data removed]",
      "text/plain": [
       "<matplotlib.figure.Figure at 0x7f2a96b84c10>"
      ]
     },
     "metadata": {},
     "output_type": "display_data"
    }
   ],
   "source": [
    "plot_histogram(ys2, 1)"
   ]
  },
  {
   "cell_type": "code",
   "execution_count": 10,
   "metadata": {},
   "outputs": [
    {
     "data": {
      "image/png": "[encoded data removed]",
      "text/plain": [
       "<matplotlib.figure.Figure at 0x7f2a9691da10>"
      ]
     },
     "metadata": {},
     "output_type": "display_data"
    }
   ],
   "source": [
    "plt.scatter(xs, ys1, marker='.', color='black', label='ys1')\n",
    "plt.scatter(xs, ys2, marker='.', color='gray',  label='ys2')\n",
    "plt.xlabel('xs')\n",
    "plt.ylabel('ys')\n",
    "plt.legend(loc=9)\n",
    "plt.title(\"Very Different Joint Distributions\")\n",
    "plt.show()"
   ]
  },
  {
   "cell_type": "code",
   "execution_count": 11,
   "metadata": {},
   "outputs": [
    {
     "name": "stdout",
     "output_type": "stream",
     "text": [
      "0.901049368638\n",
      "-0.892098152688\n"
     ]
    }
   ],
   "source": [
    "print correlation(xs, ys1)      #  0.9\n",
    "print correlation(xs, ys2)      # -0.9"
   ]
  },
  {
   "cell_type": "code",
   "execution_count": 12,
   "metadata": {},
   "outputs": [],
   "source": [
    "\n",
    "def shape(A):\n",
    "    num_rows = len(A)\n",
    "    num_cols = len(A[0]) if A else 0\n",
    "    return num_rows, num_cols\n",
    "\n",
    "def get_column(A, j):\n",
    "    return [A_i[j] for A_i in A]\n",
    "\n",
    "def make_matrix(num_rows, num_cols, entry_fn):\n",
    "    \"\"\"returns a num_rows x num_cols matrix\n",
    "    whose (i,j)-th entry is entry_fn(i, j)\"\"\"\n",
    "    return [[entry_fn(i, j) for j in range(num_cols)]\n",
    "            for i in range(num_rows)]"
   ]
  },
  {
   "cell_type": "code",
   "execution_count": 13,
   "metadata": {},
   "outputs": [],
   "source": [
    "def correlation_matrix(data):\n",
    "    \"\"\"returns the num_columns x num_columns matrix whose (i, j)th entry\n",
    "    is the correlation between columns i and j of data\"\"\"\n",
    "\n",
    "    _, num_columns = shape(data)\n",
    "\n",
    "    def matrix_entry(i, j):\n",
    "        return correlation(get_column(data, i), get_column(data, j))\n",
    "\n",
    "    return make_matrix(num_columns, num_columns, matrix_entry)"
   ]
  },
  {
   "cell_type": "code",
   "execution_count": 14,
   "metadata": {},
   "outputs": [],
   "source": [
    "num_points = 100\n",
    "    \n",
    "def random_row():\n",
    "    row = [None, None, None, None]\n",
    "    row[0] = random_normal()\n",
    "    row[1] = -5 * row[0] + random_normal()\n",
    "    row[2] = row[0] + row[1] + 5 * random_normal()\n",
    "    row[3] = 6 if row[2] > -2 else 0\n",
    "    return row\n",
    "random.seed(0)\n",
    "data = [random_row() for _ in range(num_points)]"
   ]
  },
  {
   "cell_type": "code",
   "execution_count": 15,
   "metadata": {},
   "outputs": [
    {
     "data": {
      "image/png": "[encoded data removed]",
      "text/plain": [
       "<matplotlib.figure.Figure at 0x7f2a96949ad0>"
      ]
     },
     "metadata": {},
     "output_type": "display_data"
    }
   ],
   "source": [
    "_, num_columns = shape(data)\n",
    "fig, ax = plt.subplots(num_columns, num_columns)\n",
    "\n",
    "for i in range(num_columns):\n",
    "    for j in range(num_columns):\n",
    "\n",
    "        # scatter column_j on the x-axis vs column_i on the y-axis\n",
    "        if i != j: ax[i][j].scatter(get_column(data, j), get_column(data, i))\n",
    "\n",
    "        # unless i == j, in which case show the series name\n",
    "        else: ax[i][j].annotate(\"series \" + str(i), (0.5, 0.5),\n",
    "                                xycoords='axes fraction',\n",
    "                                ha=\"center\", va=\"center\")\n",
    "\n",
    "        # then hide axis labels except left and bottom charts\n",
    "        if i < num_columns - 1: ax[i][j].xaxis.set_visible(False)\n",
    "        if j > 0: ax[i][j].yaxis.set_visible(False)\n",
    "\n",
    "# fix the bottom right and top left axis labels, which are wrong because\n",
    "# their charts only have text in them\n",
    "ax[-1][-1].set_xlim(ax[0][-1].get_xlim())\n",
    "ax[0][0].set_ylim(ax[0][1].get_ylim())\n",
    "\n",
    "plt.show()"
   ]
  },
  {
   "cell_type": "markdown",
   "metadata": {},
   "source": [
    "### Rescaling"
   ]
  },
  {
   "cell_type": "code",
   "execution_count": 16,
   "metadata": {},
   "outputs": [],
   "source": [
    "def scale(data_matrix):\n",
    "    \"\"\"returns the means and standard deviations of each column\"\"\"\n",
    "    num_rows, num_cols = shape(data_matrix)\n",
    "    means = [mean(get_column(data_matrix,j))\n",
    "             for j in range(num_cols)]\n",
    "    stdevs = [standard_deviation(get_column(data_matrix,j))\n",
    "              for j in range(num_cols)]\n",
    "    return means, stdevs"
   ]
  },
  {
   "cell_type": "code",
   "execution_count": 17,
   "metadata": {},
   "outputs": [],
   "source": [
    "def rescale(data_matrix):\n",
    "    \"\"\"rescales the input data so that each column\n",
    "    has mean 0 and standard deviation 1\n",
    "    leaves alone columns with no deviation\"\"\"\n",
    "    means, stdevs = scale(data_matrix)\n",
    "\n",
    "    def rescaled(i, j):\n",
    "        if stdevs[j] > 0:\n",
    "            return (data_matrix[i][j] - means[j]) / stdevs[j]\n",
    "        else:\n",
    "            return data_matrix[i][j]\n",
    "\n",
    "    num_rows, num_cols = shape(data_matrix)\n",
    "    return make_matrix(num_rows, num_cols, rescaled)"
   ]
  },
  {
   "cell_type": "code",
   "execution_count": 18,
   "metadata": {},
   "outputs": [],
   "source": [
    "X = [\n",
    "    [20.9666776351559,-13.1138080189357],\n",
    "    [22.7719907680008,-19.8890894944696],\n",
    "    [25.6687103160153,-11.9956004517219],\n",
    "    [18.0019794950564,-18.1989191165133],\n",
    "    [21.3967402102156,-10.8893126308196],\n",
    "    [0.443696899177716,-19.7221132386308],\n",
    "    [29.9198322142127,-14.0958668502427],\n",
    "    [19.0805843080126,-13.7888747608312],\n",
    "    [16.4685063521314,-11.2612927034291],\n",
    "    [21.4597664701884,-12.4740034586705],\n",
    "    [3.87655283720532,-17.575162461771],\n",
    "    [34.5713920556787,-10.705185165378],\n",
    "    [13.3732115747722,-16.7270274494424],\n",
    "    [20.7281704141919,-8.81165591556553],\n",
    "    [24.839851437942,-12.1240962157419],\n",
    "    [20.3019544741252,-12.8725060780898],\n",
    "    [21.9021426929599,-17.3225432396452],\n",
    "    [23.2285885715486,-12.2676568419045],\n",
    "    [28.5749111681851,-13.2616470619453],\n",
    "    [29.2957424128701,-14.6299928678996],\n",
    "    [15.2495527798625,-18.4649714274207],\n",
    "    [26.5567257400476,-9.19794350561966],\n",
    "    [30.1934232346361,-12.6272709845971],\n",
    "    [36.8267446011057,-7.25409849336718],\n",
    "    [32.157416823084,-10.4729534347553],\n",
    "    [5.85964365291694,-22.6573731626132],\n",
    "    [25.7426190674693,-14.8055803854566],\n",
    "    [16.237602636139,-16.5920595763719],\n",
    "    [14.7408608850568,-20.0537715298403],\n",
    "    [6.85907008242544,-18.3965586884781],\n",
    "    [26.5918329233128,-8.92664811750842],\n",
    "    [-11.2216019958228,-27.0519081982856],\n",
    "    [8.93593745011035,-20.8261235122575],\n",
    "    [24.4481258671796,-18.0324012215159],\n",
    "    [2.82048515404903,-22.4208457598703],\n",
    "    [30.8803004755948,-11.455358009593],\n",
    "    [15.4586738236098,-11.1242825084309],\n",
    "    [28.5332537090494,-14.7898744423126],\n",
    "    [40.4830293441052,-2.41946428697183],\n",
    "    [15.7563759125684,-13.5771266003795],\n",
    "    [19.3635588851727,-20.6224770470434],\n",
    "    [13.4212840786467,-19.0238227375766],\n",
    "    [7.77570680426702,-16.6385739839089],\n",
    "    [21.4865983854408,-15.290799330002],\n",
    "    [12.6392705930724,-23.6433305964301],\n",
    "    [12.4746151388128,-17.9720169566614],\n",
    "    [23.4572410437998,-14.602080545086],\n",
    "    [13.6878189833565,-18.9687408182414],\n",
    "    [15.4077465943441,-14.5352487124086],\n",
    "    [20.3356581548895,-10.0883159703702],\n",
    "    [20.7093833689359,-12.6939091236766],\n",
    "    [11.1032293684441,-14.1383848928755],\n",
    "    [17.5048321498308,-9.2338593361801],\n",
    "    [16.3303688220188,-15.1054735529158],\n",
    "    [26.6929062710726,-13.306030567991],\n",
    "    [34.4985678099711,-9.86199941278607],\n",
    "    [39.1374291499406,-10.5621430853401],\n",
    "    [21.9088956482146,-9.95198845621849],\n",
    "    [22.2367457578087,-17.2200123442707],\n",
    "    [10.0032784145577,-19.3557700653426],\n",
    "    [14.045833906665,-15.871937521131],\n",
    "    [15.5640911917607,-18.3396956121887],\n",
    "    [24.4771926581586,-14.8715313479137],\n",
    "    [26.533415556629,-14.693883922494],\n",
    "    [12.8722580202544,-21.2750596021509],\n",
    "    [24.4768291376862,-15.9592080959207],\n",
    "    [18.2230748567433,-14.6541444069985],\n",
    "    [4.1902148367447,-20.6144032528762],\n",
    "    [12.4332594022086,-16.6079789231489],\n",
    "    [20.5483758651873,-18.8512560786321],\n",
    "    [17.8180560451358,-12.5451990696752],\n",
    "    [11.0071081078049,-20.3938092335862],\n",
    "    [8.30560561422449,-22.9503944138682],\n",
    "    [33.9857852657284,-4.8371294974382],\n",
    "    [17.4376502239652,-14.5095976075022],\n",
    "    [29.0379635148943,-14.8461553663227],\n",
    "    [29.1344666599319,-7.70862921632672],\n",
    "    [32.9730697624544,-15.5839178785654],\n",
    "    [13.4211493998212,-20.150199857584],\n",
    "    [11.380538260355,-12.8619410359766],\n",
    "    [28.672631499186,-8.51866271785711],\n",
    "    [16.4296061111902,-23.3326051279759],\n",
    "    [25.7168371582585,-13.8899296143829],\n",
    "    [13.3185154732595,-17.8959160024249],\n",
    "    [3.60832478605376,-25.4023343597712],\n",
    "    [39.5445949652652,-11.466377647931],\n",
    "    [25.1693484426101,-12.2752652925707],\n",
    "    [25.2884257196471,-7.06710309184533],\n",
    "    [6.77665715793125,-22.3947299635571],\n",
    "    [20.1844223778907,-16.0427471125407],\n",
    "    [25.5506805272535,-9.33856532270204],\n",
    "    [25.1495682602477,-7.17350567090738],\n",
    "    [15.6978431006492,-17.5979197162642],\n",
    "    [37.42780451491,-10.843637288504],\n",
    "    [22.974620174842,-10.6171162611686],\n",
    "    [34.6327117468934,-9.26182440487384],\n",
    "    [34.7042513789061,-6.9630753351114],\n",
    "    [15.6563953929008,-17.2196961218915],\n",
    "    [25.2049825789225,-14.1592086208169]\n",
    "]"
   ]
  },
  {
   "cell_type": "code",
   "execution_count": 19,
   "metadata": {},
   "outputs": [
    {
     "data": {
      "text/plain": [
       "[[0.06994655333504851, 0.3555901003738007],\n",
       " [0.2594437787302406, -1.0725699871065024],\n",
       " [0.5635020094659506, 0.591296826770338],\n",
       " [-0.2412471456759516, -0.7162993460187125],\n",
       " [0.11508867479721277, 0.8244909924715823],\n",
       " [-2.0842769082637105, -1.0373730989761707],\n",
       " [1.0097269827788538, 0.14858213598222714],\n",
       " [-0.1280298784692326, 0.21329293078136707],\n",
       " [-0.4022103052051842, 0.7460813950316395],\n",
       " [0.12170431458545294, 0.490454362479847],\n",
       " [-1.7239423692840243, -0.5848178183773854],\n",
       " [1.4979844865219647, 0.8633031802902265],\n",
       " [-0.727112263440808, -0.4060396262422944],\n",
       " [0.044911308320144595, 1.262439793111997],\n",
       " [0.4764996746457583, 0.5642112330210111],\n",
       " [0.00017295429589445188, 0.40645408324921173],\n",
       " [0.16813895535267692, -0.5315682682777771],\n",
       " [0.30737120767299575, 0.5339501203042217],\n",
       " [0.8685554585922377, 0.32442714111372695],\n",
       " [0.9442185213378771, 0.03599383055801981],\n",
       " [-0.5301594768076261, -0.7723804539390161],\n",
       " [0.6567137941146767, 1.1810143172263934],\n",
       " [1.0384448480178743, 0.4581471345033188],\n",
       " [1.7347207301524032, 1.5907569785123425],\n",
       " [1.2445981900247192, 0.9122552555537387],\n",
       " [-1.5157844600287742, -1.656095890781923],\n",
       " [0.5712599452379489, -0.00101822353009373],\n",
       " [-0.4264474376549145, -0.3775897780540747],\n",
       " [-0.5835550351143437, -1.1072832770105088],\n",
       " [-1.410878262908258, -0.757959747790371],\n",
       " [0.6603988688527707, 1.2382006122337785],\n",
       " [-3.308741370295689, -2.5824189614387896],\n",
       " [-1.1928769663299106, -1.2700871809896583],\n",
       " [0.43538165061695944, -0.6811990756690176],\n",
       " [-1.8347939950472978, -1.606238331739895],\n",
       " [1.1105438811333448, 0.7051744119596061],\n",
       " [-0.508208793105784, 0.7749617438084266],\n",
       " [0.864182824958986, 0.0022924287602200423],\n",
       " [2.1185077870611075, 2.6098484562722026],\n",
       " [-0.4769600757361232, 0.25792727880757405],\n",
       " [-0.09832705503454396, -1.2271605875152072],\n",
       " [-0.7220662656378329, -0.890180598314249],\n",
       " [-1.3146622035864055, -0.38739453975689403],\n",
       " [0.1245207642084369, -0.10329741780289721],\n",
       " [-0.804151408121912, -1.8639256407364573],\n",
       " [-0.8214346988489949, -0.6684706898021789],\n",
       " [0.331372035165495, 0.04187746292594425],\n",
       " [-0.694089055482669, -0.8785698926896321],\n",
       " [-0.5135544411639174, 0.05596493019172343],\n",
       " [0.003710708425215929, 0.9933329018136146],\n",
       " [0.042939299761288116, 0.44410049586830874],\n",
       " [-0.9653841299495124, 0.139619767155895],\n",
       " [-0.29343091414185707, 1.1734436272262287],\n",
       " [-0.41671010482611287, -0.06423263813705662],\n",
       " [0.6710081745811919, 0.3150715516661441],\n",
       " [1.4903403874169294, 1.0410381190573192],\n",
       " [1.9772649751376155, 0.8934549887837906],\n",
       " [0.1688477887737063, 1.022069348445381],\n",
       " [0.2032610354195605, -0.5099558034619238],\n",
       " [-1.080842024782306, -0.9601517023005648],\n",
       " [-0.6565095168515379, -0.2257954089015675],\n",
       " [-0.497143511183429, -0.7459735924843336],\n",
       " [0.43843268710556177, -0.014920012356471541],\n",
       " [0.6542670080137429, 0.022526249255568197],\n",
       " [-0.779695556004236, -1.3647183203350095],\n",
       " [0.4383945296692472, -0.2441911541080485],\n",
       " [-0.21803956089458432, 0.03090293295962165],\n",
       " [-1.6910183975124595, -1.225458714223926],\n",
       " [-0.8257756617534859, -0.3809454136491078],\n",
       " [0.026038921276761304, -0.8538053103466092],\n",
       " [-0.2605529285958055, 0.47544705534318343],\n",
       " [-0.9754736329067711, -1.178959749564747],\n",
       " [-1.2590406316827454, -1.7178617756882693],\n",
       " [1.4365154483538918, 2.100229339937903],\n",
       " [-0.30048275922990286, 0.061371920935853905],\n",
       " [0.9171603977120512, -0.009571014795296933],\n",
       " [0.9272899857008766, 1.4949465476972554],\n",
       " [1.3302143449643082, -0.16508381198741565],\n",
       " [-0.7220804023896724, -1.1276093829418004],\n",
       " [-0.936276013114556, 0.4086810861454175],\n",
       " [0.8788128102131109, 1.324199764617449],\n",
       " [-0.4062935235629576, -1.798427887792556],\n",
       " [0.5685537109720195, 0.19199160049570063],\n",
       " [-0.7328535164611396, -0.6524293864478904],\n",
       " [-1.7520973029305116, -2.2347056559436402],\n",
       " [2.0200037060957152, 0.7028515848254674],\n",
       " [0.5110857899432402, 0.532346336666853],\n",
       " [0.5235849033632858, 1.6301736979446249],\n",
       " [-1.4195288511326631, -1.6007333887966444],\n",
       " [-0.01216396705371143, -0.2618003249911867],\n",
       " [0.5511128471220776, 1.1513726754272702],\n",
       " [0.5090095353548858, 1.607745121778435],\n",
       " [-0.4831040544462254, -0.5896148150313524],\n",
       " [1.7978118271427077, 0.8341188878014952],\n",
       " [0.2807130586580786, 0.8818672051789603],\n",
       " [1.5044209939266189, 1.1675488765658664],\n",
       " [1.5119302517531747, 1.6521016858361983],\n",
       " [-0.4874546712308801, -0.5098891470163763],\n",
       " [0.5148261770471178, 0.13523033813721178]]"
      ]
     },
     "execution_count": 19,
     "metadata": {},
     "output_type": "execute_result"
    }
   ],
   "source": [
    "rescale(X)"
   ]
  },
  {
   "cell_type": "code",
   "execution_count": 20,
   "metadata": {},
   "outputs": [
    {
     "data": {
      "text/plain": [
       "([20.30030676313044, -14.800749868848643],\n",
       " [9.526857868657244, 4.744063032518646])"
      ]
     },
     "execution_count": 20,
     "metadata": {},
     "output_type": "execute_result"
    }
   ],
   "source": [
    "scale(X)"
   ]
  },
  {
   "cell_type": "markdown",
   "metadata": {},
   "source": [
    "### Dimensionality Reduction\n"
   ]
  },
  {
   "cell_type": "code",
   "execution_count": 44,
   "metadata": {},
   "outputs": [],
   "source": [
    "def de_mean_matrix(A):\n",
    "    \"\"\"returns the result of subtracting from every value in A the mean\n",
    "    value of its column. the resulting matrix has mean 0 in every column\"\"\"\n",
    "    nr, nc = shape(A)\n",
    "    column_means, _ = scale(A)\n",
    "    return make_matrix(nr, nc, lambda i, j: A[i][j] - column_means[j])"
   ]
  },
  {
   "cell_type": "code",
   "execution_count": 45,
   "metadata": {},
   "outputs": [],
   "source": [
    "def magnitude(v):\n",
    "    return math.sqrt(sum_of_squares(v)) \n",
    "\n",
    "def direction(w):\n",
    "    mag = magnitude(w)\n",
    "    return [w_i / mag for w_i in w]\n",
    "\n",
    "def directional_variance_i(x_i, w):\n",
    "    \"\"\"the variance of the row x_i in the direction determined by w\"\"\"\n",
    "    return dot(x_i, direction(w)) ** 2\n",
    "\n",
    "def directional_variance(X, w):\n",
    "    \"\"\"the variance of the data in the direction determined w\"\"\"\n",
    "    return sum(directional_variance_i(x_i, w)\n",
    "               for x_i in X)"
   ]
  },
  {
   "cell_type": "code",
   "execution_count": 46,
   "metadata": {},
   "outputs": [],
   "source": [
    "def directional_variance_gradient_i(x_i, w):\n",
    "    \"\"\"the contribution of row x_i to the gradient of\n",
    "    the direction-w variance\"\"\"\n",
    "    projection_length = dot(x_i, direction(w))\n",
    "    return [2 * projection_length * x_ij for x_ij in x_i]\n",
    "\n",
    "def directional_variance_gradient(X, w):\n",
    "    return vector_sum(directional_variance_gradient_i(x_i,w)\n",
    "                      for x_i in X)\n"
   ]
  },
  {
   "cell_type": "code",
   "execution_count": 67,
   "metadata": {},
   "outputs": [],
   "source": [
    "from functools import partial\n",
    "\n",
    "def scalar_multiply(c, v):\n",
    "    return [c * v_i for v_i in v]\n",
    "\n",
    "def vector_subtract(v, w):\n",
    "    \"\"\"subtracts two vectors componentwise\"\"\"\n",
    "    return [v_i - w_i for v_i, w_i in zip(v,w)]\n",
    "\n",
    "def step(v, direction, step_size):\n",
    "    \"\"\"move step_size in the direction from v\"\"\"\n",
    "    return [v_i + step_size * direction_i\n",
    "            for v_i, direction_i in zip(v, direction)]\n",
    "\n",
    "def sum_of_squares_gradient(v):\n",
    "    return [2 * v_i for v_i in v]\n",
    "\n",
    "def safe(f):\n",
    "    \"\"\"return a new function that's the same as f,\n",
    "    except that it outputs infinity whenever f produces an error\"\"\"\n",
    "    def safe_f(*args, **kwargs):\n",
    "        try:\n",
    "            return f(*args, **kwargs)\n",
    "        except:\n",
    "            return float('inf')         # this means \"infinity\" in Python\n",
    "    return safe_f\n",
    "\n",
    "def minimize_batch(target_fn, gradient_fn, theta_0, tolerance=0.000001):\n",
    "    \"\"\"use gradient descent to find theta that minimizes target function\"\"\"\n",
    "\n",
    "    step_sizes = [100, 10, 1, 0.1, 0.01, 0.001, 0.0001, 0.00001]\n",
    "\n",
    "    theta = theta_0                           # set theta to initial value\n",
    "    target_fn = safe(target_fn)               # safe version of target_fn\n",
    "    value = target_fn(theta)                  # value we're minimizing\n",
    "\n",
    "    while True:\n",
    "        gradient = gradient_fn(theta)\n",
    "        next_thetas = [step(theta, gradient, -step_size)\n",
    "                       for step_size in step_sizes]\n",
    "\n",
    "        # choose the one that minimizes the error function\n",
    "        next_theta = min(next_thetas, key=target_fn)\n",
    "        next_value = target_fn(next_theta)\n",
    "\n",
    "        # stop if we're \"converging\"\n",
    "        if abs(value - next_value) < tolerance:\n",
    "            return theta\n",
    "        else:\n",
    "            theta, value = next_theta, next_value\n",
    "            \n",
    "def negate(f):\n",
    "    \"\"\"return a function that for any input x returns -f(x)\"\"\"\n",
    "    return lambda *args, **kwargs: -f(*args, **kwargs)\n",
    "    \n",
    "def negate_all(f):\n",
    "    \"\"\"the same when f returns a list of numbers\"\"\"\n",
    "    return lambda *args, **kwargs: [-y for y in f(*args, **kwargs)]\n",
    "\n",
    "def maximize_batch(target_fn, gradient_fn, theta_0, tolerance=0.000001):\n",
    "    return minimize_batch(negate(target_fn),\n",
    "                          negate_all(gradient_fn),\n",
    "                          theta_0, \n",
    "                          tolerance)\n",
    "\n",
    "def first_principal_component(X):\n",
    "    guess = [1 for _ in X[0]]\n",
    "    unscaled_maximizer = maximize_batch(\n",
    "        partial(directional_variance, X),           # is now a function of w\n",
    "        partial(directional_variance_gradient, X),  # is now a function of w\n",
    "        guess)\n",
    "    return direction(unscaled_maximizer)\n"
   ]
  },
  {
   "cell_type": "code",
   "execution_count": 70,
   "metadata": {},
   "outputs": [
    {
     "data": {
      "text/plain": [
       "[0.9238554090431896, 0.382741666377781]"
      ]
     },
     "execution_count": 70,
     "metadata": {},
     "output_type": "execute_result"
    }
   ],
   "source": [
    "first_pc= first_principal_component(de_mean_matrix(X))\n",
    "first_pc"
   ]
  },
  {
   "cell_type": "code",
   "execution_count": 71,
   "metadata": {},
   "outputs": [],
   "source": [
    "xs, ys = zip(*de_mean_matrix(X))"
   ]
  },
  {
   "cell_type": "code",
   "execution_count": 73,
   "metadata": {},
   "outputs": [
    {
     "data": {
      "image/png": "[encoded data removed]",
      "text/plain": [
       "<matplotlib.figure.Figure at 0x7f2a95f96890>"
      ]
     },
     "metadata": {},
     "output_type": "display_data"
    }
   ],
   "source": [
    "plt.quiver(0, 0, first_pc[0]*5, first_pc[1]*5)\n",
    "plt.scatter(xs,ys)\n",
    "plt.show()"
   ]
  },
  {
   "cell_type": "code",
   "execution_count": 59,
   "metadata": {},
   "outputs": [],
   "source": [
    "def project(v, w):\n",
    "    \"\"\"return the projection of v onto the direction w\"\"\"\n",
    "    projection_length = dot(v, w)\n",
    "    return scalar_multiply(projection_length, w)"
   ]
  },
  {
   "cell_type": "code",
   "execution_count": 61,
   "metadata": {},
   "outputs": [],
   "source": [
    "def remove_projection_from_vector(v, w):\n",
    "    \"\"\"projects v onto w and subtracts the result from v\"\"\"\n",
    "    return vector_subtract(v, project(v, w))\n",
    "\n",
    "def remove_projection(X, w):\n",
    "    \"\"\"for each row of X\n",
    "    projects the row onto w, and subtracts the result from the row\"\"\"\n",
    "    return [remove_projection_from_vector(x_i, w) for x_i in X]"
   ]
  },
  {
   "cell_type": "code",
   "execution_count": 62,
   "metadata": {},
   "outputs": [],
   "source": [
    "def principal_component_analysis(X, num_components):\n",
    "    components = []\n",
    "    for _ in range(num_components):\n",
    "        component = first_principal_component(X)\n",
    "        components.append(component)\n",
    "        X = remove_projection(X, component)\n",
    "\n",
    "    return components"
   ]
  },
  {
   "cell_type": "code",
   "execution_count": 75,
   "metadata": {},
   "outputs": [
    {
     "data": {
      "text/plain": [
       "[[0.9238554090431896, 0.382741666377781],\n",
       " [-0.3827224539579983, 0.9238633682728025]]"
      ]
     },
     "execution_count": 75,
     "metadata": {},
     "output_type": "execute_result"
    }
   ],
   "source": [
    "pca= principal_component_analysis(de_mean_matrix(X),2)\n",
    "pca"
   ]
  },
  {
   "cell_type": "code",
   "execution_count": 99,
   "metadata": {},
   "outputs": [
    {
     "data": {
      "image/png": "[encoded data removed]",
      "text/plain": [
       "<matplotlib.figure.Figure at 0x7f2a95a9f4d0>"
      ]
     },
     "metadata": {},
     "output_type": "display_data"
    }
   ],
   "source": [
    "\n",
    "plt.scatter(xs,ys)\n",
    "plt.arrow(0, 0, pca[0][0]*10, pca[0][1]*10,head_width=1, head_length=3, fc='r', ec='r')\n",
    "plt.arrow(0, 0, pca[1][0]*10, pca[1][1]*10,head_width=1, head_length=3, fc='b', ec='b')\n",
    "plt.show()"
   ]
  },
  {
   "cell_type": "code",
   "execution_count": null,
   "metadata": {},
   "outputs": [],
   "source": []
  }
 ],
 "metadata": {
  "kernelspec": {
   "display_name": "Python 2",
   "language": "python",
   "name": "python2"
  },
  "language_info": {
   "codemirror_mode": {
    "name": "ipython",
    "version": 2
   },
   "file_extension": ".py",
   "mimetype": "text/x-python",
   "name": "python",
   "nbconvert_exporter": "python",
   "pygments_lexer": "ipython2",
   "version": "2.7.12"
  }
 },
 "nbformat": 4,
 "nbformat_minor": 2
}
