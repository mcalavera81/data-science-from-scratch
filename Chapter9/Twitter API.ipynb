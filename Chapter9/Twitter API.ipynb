{
 "cells": [
  {
   "cell_type": "code",
   "execution_count": 8,
   "metadata": {},
   "outputs": [
    {
     "name": "stdout",
     "output_type": "stream",
     "text": [
      "['__add__', '__class__', '__contains__', '__delattr__', '__doc__', '__eq__', '__format__', '__ge__', '__getattribute__', '__getitem__', '__getnewargs__', '__getslice__', '__gt__', '__hash__', '__init__', '__le__', '__len__', '__lt__', '__mod__', '__mul__', '__ne__', '__new__', '__reduce__', '__reduce_ex__', '__repr__', '__rmod__', '__rmul__', '__setattr__', '__sizeof__', '__str__', '__subclasshook__', '_formatter_field_name_split', '_formatter_parser', 'capitalize', 'center', 'count', 'decode', 'encode', 'endswith', 'expandtabs', 'find', 'format', 'index', 'isalnum', 'isalpha', 'isdigit', 'islower', 'isspace', 'istitle', 'isupper', 'join', 'ljust', 'lower', 'lstrip', 'partition', 'replace', 'rfind', 'rindex', 'rjust', 'rpartition', 'rsplit', 'rstrip', 'split', 'splitlines', 'startswith', 'strip', 'swapcase', 'title', 'translate', 'upper', 'zfill']\n",
      "Tsundu_Mak : RT @nigewillson: The data science sphere is full of big opportunities and challenges https://t.co/RvhrdzsqP1 #DataScience #ml https://t.co/…\n",
      "\n",
      "jfnyl : Not necessarily overlooked, but certainly not talked about enough: “A Code of Ethics for Data Science” by @dpatil https://t.co/HXSr3ZenQK\n",
      "\n",
      "3Dcamp : RT @kathrynparkes: I’m going to be talking at @LadiesThatUXDUB on Feb 27 about typical girlie stuff...like Data, GDPR, AI, Machine Learning…\n",
      "\n",
      "ubcscience : RT @pimsmath: Next week, Fernando Perez @fperez_org of @UCBIDS visits @UBC_CS for a @pimsmath UBC CS Distinguished Lecture on building an o…\n",
      "\n",
      "LynnButlerJr5 : RT @TweetEraser: That’s Data Science: Airbus Puts 10,000 Sensors in Every Single Wing! https://t.co/gwUARkPfbY\n",
      "\n",
      "ToufiKatswift : RT @Jcharness: Three Ways To Boost Your ROI In #DataScience and #MachineLearning by @DataScienceInc https://t.co/Pe5mCpZIl2\n",
      "\n",
      "DaphnaBI : How to Turn Data into Life-Saving Insights: Data Science \n",
      "\n",
      "https://t.co/IgZ3kq6QUJ via @RedPixie\n",
      "\n",
      "#datascience… https://t.co/6EdM3Udj7v\n",
      "\n",
      "PaulSweeney : RT @kathrynparkes: I’m going to be talking at @LadiesThatUXDUB on Feb 27 about typical girlie stuff...like Data, GDPR, AI, Machine Learning…\n",
      "\n",
      "KumarAGarg : RT @sarita: @dpatil makes a call to action - submit a case study of ethical dilemmas of data science here:  https://t.co/91pBL7OWt3  #D4GX…\n",
      "\n",
      "TedHabermann : RT @pimsmath: Next week, Fernando Perez @fperez_org of @UCBIDS visits @UBC_CS for a @pimsmath UBC CS Distinguished Lecture on building an o…\n",
      "\n",
      "juniperlov : RT @cxdig: Tenure-track Research Professor in Data Science @UNAM_mx Mérida https://t.co/RUZpV6PiPv\n",
      "\n",
      "AlyintheATL : Really awesome insights for our customers from our incredible data science team, led by our CTO @smitchelus and lea… https://t.co/QicA8d8D5z\n",
      "\n",
      "scanlibs : Preparing Raw Data for Big Data and Data Science https://t.co/rULi5QrjHI\n",
      "\n",
      "DataScienceInc : RT @Jcharness: Three Ways To Boost Your ROI In #DataScience and #MachineLearning by @DataScienceInc https://t.co/Pe5mCpZIl2\n",
      "\n"
     ]
    }
   ],
   "source": [
    "from twython import Twython\n",
    "import json\n",
    "\n",
    "json_data=open(\"./credentials.json\").read()\n",
    "cred= json.loads(json_data)\n",
    "\n",
    "\n",
    "a= str(u'é'.encode('utf-8'))\n",
    "print dir(a)\n",
    "\n",
    "twitter = Twython(cred[\"CONSUMER_KEY\"], cred[\"CONSUMER_SECRET\"])\n",
    "\n",
    "# search for tweets containing the phrase \"data science\"\n",
    "for status in twitter.search(q='\"data science\"')[\"statuses\"]:\n",
    "    user = status[\"user\"][\"screen_name\"].encode('utf-8')\n",
    "    text = status[\"text\"].encode('utf-8')\n",
    "    print user, \":\", text\n",
    "    print"
   ]
  },
  {
   "cell_type": "code",
   "execution_count": null,
   "metadata": {},
   "outputs": [],
   "source": []
  }
 ],
 "metadata": {
  "kernelspec": {
   "display_name": "Python 2",
   "language": "python",
   "name": "python2"
  },
  "language_info": {
   "codemirror_mode": {
    "name": "ipython",
    "version": 2
   },
   "file_extension": ".py",
   "mimetype": "text/x-python",
   "name": "python",
   "nbconvert_exporter": "python",
   "pygments_lexer": "ipython2",
   "version": "2.7.12"
  }
 },
 "nbformat": 4,
 "nbformat_minor": 2
}
