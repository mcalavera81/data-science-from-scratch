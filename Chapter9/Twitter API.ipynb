{
 "cells": [
  {
   "cell_type": "code",
   "execution_count": 3,
   "metadata": {},
   "outputs": [
    {
     "name": "stdout",
     "output_type": "stream",
     "text": [
      "gumengting333 : RT @MarkGerstein: Come tomorrow, if you can, to the opening workshop for the new @YaleMed Center for Biomed. Data Science (1 pm, 7 Feb.). U…\n",
      "\n",
      "swish_labs : How to learn Deep Learning in 6 months – Towards Data Science https://t.co/NOAYTtU0a0 https://t.co/Ji0IhwFnhY\n",
      "\n",
      "jmenter_93 : RT @hrdag: Thanks again to #WDSboston for inviting Megan Price to keynote the Women in Data Science conference at the @museumofscience! htt…\n",
      "\n",
      "jgodard2 : On The Subject of Thinking Machines – Towards Data Science https://t.co/KcHurr0km6\n",
      "#AI #BigData #ML #DL #IoT #IIoT… https://t.co/cyXJhhPK3E\n",
      "\n",
      "Mathfi_Jobs : Job Management-solutions (Paris): Data Science Consultant - Experienced.%... https://t.co/klx7OSo71g Quant IB Finance jobs 138\n",
      "\n",
      "AllisonAIBot : RT @homeAIinfo: AI, Machine Learning, Data Science, Big Data, &amp; IoT Resources - My GitHub repository of resour https://t.co/qwrDkGGLpX #mac…\n",
      "\n",
      "heidiurena1 : RT @cheddar: Here's how @SeanBlack, co-founder &amp; CEO of @KnockDotCom is using technology and localized data science to disrupt the real est…\n",
      "\n",
      "SleimanSkaf : RT @simonlporter: Artificial Intelligence and Data Science are changing Crime Investigation https://t.co/YU783k5vh5 https://t.co/VEXcwkhfEc\n",
      "\n",
      "LaessigSarah : RT @jonathonmorgan: The data science community deserves a code of ethics created by practitioners. Join the conversation tomorrow in @data4…\n",
      "\n",
      "homeAIinfo : AI, Machine Learning, Data Science, Big Data, &amp; IoT Resources - My GitHub repository of resour https://t.co/qwrDkGGLpX #machine-learning\n",
      "\n",
      "mattaf30 : RT @AlisonThaung: Here is another #tutorial on some basic data types, objects, and manipulations in #python https://t.co/rbuf9jmZ89 #Tutori…\n",
      "\n",
      "InfoZynar : RT @cognitive_uxd: “How Can Data Science Improve UX Design?” by Sophia Brooke #ux #ai #cuxd https://t.co/LLdiG1BJgB https://t.co/6YLVCgsle9\n",
      "\n",
      "ClausDanielCD : RT @ornlntrc: Claus Daniel discusses the potential of the Bredesen Center's Data Science and Engineering program to impact transportation s…\n",
      "\n",
      "ileadgen : RT @ahmedjr_16: 21 Best #DataScience Courses to Become a #DataScientist \n",
      "\n",
      "https://t.co/MqP4EYtLZe\n",
      "\n",
      "#AI #ArtificialIntelligence #BI  #Machin…\n",
      "\n",
      "ileadgen : RT @ahmedjr_16: #Review of #MachineLearning A-Z™ Hands-On #Python #R In #DataScience \n",
      "\n",
      "https://t.co/qKEopzwJtU \n",
      "\n",
      "#DataScientist #rstats #AI…\n",
      "\n"
     ]
    }
   ],
   "source": [
    "from twython import Twython\n",
    "import json\n",
    "\n",
    "json_data=open(\"./credentials.json\").read()\n",
    "cred= json.loads(json_data)\n",
    "\n",
    "\n",
    "twitter = Twython(cred[\"CONSUMER_KEY\"], cred[\"CONSUMER_SECRET\"])\n",
    "\n",
    "# search for tweets containing the phrase \"data science\"\n",
    "for status in twitter.search(q='\"data science\"')[\"statuses\"]:\n",
    "    user = status[\"user\"][\"screen_name\"].encode('utf-8')\n",
    "    text = status[\"text\"].encode('utf-8')\n",
    "    print user, \":\", text\n",
    "    print"
   ]
  },
  {
   "cell_type": "code",
   "execution_count": null,
   "metadata": {},
   "outputs": [],
   "source": []
  }
 ],
 "metadata": {
  "kernelspec": {
   "display_name": "Python 2",
   "language": "python",
   "name": "python2"
  },
  "language_info": {
   "codemirror_mode": {
    "name": "ipython",
    "version": 2
   },
   "file_extension": ".py",
   "mimetype": "text/x-python",
   "name": "python",
   "nbconvert_exporter": "python",
   "pygments_lexer": "ipython2",
   "version": "2.7.12"
  }
 },
 "nbformat": 4,
 "nbformat_minor": 2
}
