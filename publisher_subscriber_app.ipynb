{
 "cells": [
  {
   "cell_type": "code",
   "execution_count": 113,
   "metadata": {},
   "outputs": [
    {
     "name": "stdout",
     "output_type": "stream",
     "text": [
      "[Post(timestamp=1518275531.6981192, user='raymondh', text='#python tip: never mutate while iterating'),\n",
      " Post(timestamp=1518275521.6981192, user='barry', text='enums rock'),\n",
      " Post(timestamp=1518275501.6981192, user='raymondh', text='#python tip: have fun programming'),\n",
      " Post(timestamp=1518275461.6981192, user='barry', text='learn emacs')]\n"
     ]
    }
   ],
   "source": [
    "%%typecheck \n",
    "\n",
    "from typing import NamedTuple, Deque, DefaultDict, Dict, Set, Optional,List\n",
    "from collections import deque, defaultdict\n",
    "import time\n",
    "from pprint import pprint\n",
    "from heapq import merge\n",
    "from itertools import islice\n",
    "from sys import intern\n",
    "\n",
    "#Aliases\n",
    "Timestamp= float\n",
    "User = str\n",
    "# Although the name list suggests linked list (which has O(1) insert/delete), Lists are implemented as resizable vectors, so insertions & deletions can be O(N). Use collections.deque for O(1) insertions and removals.\n",
    "Post = NamedTuple('Post',[('timestamp',Timestamp), ('user',User), ('text',str)])\n",
    "\n",
    "posts: Deque[Post] = deque()\n",
    "\n",
    "user_posts:DefaultDict[User,Deque[Post]] = defaultdict(deque)\n",
    "following: DefaultDict[User, Set[User]] = defaultdict(set)\n",
    "followers: DefaultDict[User, Set[User]] = defaultdict(set)\n",
    "    \n",
    "\n",
    "def post_message(user: User, text: str, timestamp: Optional[Timestamp]=None)-> None:\n",
    "    user = intern(user)\n",
    "    timestamp = timestamp or time.time()\n",
    "    post = Post(timestamp, user, text)\n",
    "    posts.appendleft(post)\n",
    "    user_posts[user].appendleft(post) \n",
    "\n",
    "\n",
    "def follow(user: User, followed_user: User)-> None:\n",
    "    user, followed_user = intern(user), intern(followed_user)\n",
    "    following[user].add(followed_user)\n",
    "    followers[followed_user].add(user)\n",
    "    \n",
    "def post_by_user(user: User, limit:Optional[int] = None)-> List[Post]:\n",
    "    return list(islice(user_posts[user],limit))\n",
    "    \n",
    "\n",
    "def post_for_user(user: User, limit:Optional[int] = None)-> List[Post]:\n",
    "    relevant = merge(*(user_posts[followed_user] for followed_user in following[user]),reverse=True)\n",
    "    return list(islice(relevant,limit))\n",
    "\n",
    "def search (phrase: str, limit: Optional[int]=None)->List[Post]:\n",
    "    return list(islice((post for post in posts if phrase in post.text),limit))\n",
    "    \n",
    "now = time.time()\n",
    "\n",
    "post_message('raymondh', '#python tip: use named tuples', now-3600*48)\n",
    "post_message('barry', 'join a band today', now-3600)\n",
    "post_message('selik', 'gradient descent save me money on travel', now-2500)\n",
    "post_message('raymondh', '#python tip: develop interactively', now-500)\n",
    "post_message('barry', 'learn emacs', now-80)\n",
    "post_message('davin', 'teaching #python today', now-50)\n",
    "post_message('selik', 'have you ever wanted to unpack mappings?', now-46)\n",
    "post_message('raymondh', '#python tip: have fun programming', now-40)\n",
    "post_message('davin', '#camping tip:  always take water', now-30)\n",
    "post_message('barry', 'enums rock', now-20)\n",
    "post_message('raymondh', '#python tip: never mutate while iterating', now-10)\n",
    "post_message('davin', 'coriander and cilantro come from the same plant', now)\n",
    "post_message('davin', 'coriander and cilantro come from the same plant', None)\n",
    "\n",
    "\n",
    "follow('davin', followed_user='raymondh')\n",
    "follow('davin', followed_user='barry')\n",
    "follow('selik', followed_user='davin')\n",
    "follow('raymondh', followed_user='selik')\n",
    "follow('raymondh', followed_user='barry')\n",
    "\n",
    "pprint(post_for_user('davin',4))\n"
   ]
  },
  {
   "cell_type": "code",
   "execution_count": 115,
   "metadata": {},
   "outputs": [
    {
     "data": {
      "text/plain": [
       "[Post(timestamp=1518275531.6981192, user='raymondh', text='#python tip: never mutate while iterating'),\n",
       " Post(timestamp=1518275501.6981192, user='raymondh', text='#python tip: have fun programming'),\n",
       " Post(timestamp=1518275491.6981192, user='davin', text='teaching #python today')]"
      ]
     },
     "execution_count": 115,
     "metadata": {},
     "output_type": "execute_result"
    }
   ],
   "source": [
    "search('#python',3)"
   ]
  },
  {
   "cell_type": "code",
   "execution_count": 110,
   "metadata": {},
   "outputs": [
    {
     "ename": "StopIteration",
     "evalue": "",
     "output_type": "error",
     "traceback": [
      "\u001b[0;31m---------------------------------------------------------------------------\u001b[0m",
      "\u001b[0;31mStopIteration\u001b[0m                             Traceback (most recent call last)",
      "\u001b[0;32m<ipython-input-110-92de4e9f6b1e>\u001b[0m in \u001b[0;36m<module>\u001b[0;34m()\u001b[0m\n\u001b[0;32m----> 1\u001b[0;31m \u001b[0mnext\u001b[0m\u001b[0;34m(\u001b[0m\u001b[0mx\u001b[0m\u001b[0;34m)\u001b[0m\u001b[0;34m\u001b[0m\u001b[0m\n\u001b[0m",
      "\u001b[0;31mStopIteration\u001b[0m: "
     ]
    }
   ],
   "source": [
    "next(x)"
   ]
  },
  {
   "cell_type": "code",
   "execution_count": 109,
   "metadata": {},
   "outputs": [
    {
     "data": {
      "text/plain": [
       "Post(timestamp=1518274604.5853543, user='raymondh', text='#python tip: develop interactively')"
      ]
     },
     "execution_count": 109,
     "metadata": {},
     "output_type": "execute_result"
    }
   ],
   "source": [
    "next(x)"
   ]
  },
  {
   "cell_type": "code",
   "execution_count": null,
   "metadata": {},
   "outputs": [],
   "source": []
  }
 ],
 "metadata": {
  "kernelspec": {
   "display_name": "Python 3",
   "language": "python",
   "name": "python3"
  },
  "language_info": {
   "codemirror_mode": {
    "name": "ipython",
    "version": 3
   },
   "file_extension": ".py",
   "mimetype": "text/x-python",
   "name": "python",
   "nbconvert_exporter": "python",
   "pygments_lexer": "ipython3",
   "version": "3.6.3"
  }
 },
 "nbformat": 4,
 "nbformat_minor": 2
}
